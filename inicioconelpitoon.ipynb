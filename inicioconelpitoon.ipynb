{
  "nbformat": 4,
  "nbformat_minor": 0,
  "metadata": {
    "colab": {
      "name": "inicioconelpitoon.ipynb",
      "provenance": [],
      "authorship_tag": "ABX9TyMb2AhyEa/zjNRHpLvlM2sP",
      "include_colab_link": true
    },
    "kernelspec": {
      "name": "python3",
      "display_name": "Python 3"
    }
  },
  "cells": [
    {
      "cell_type": "markdown",
      "metadata": {
        "id": "view-in-github",
        "colab_type": "text"
      },
      "source": [
        "<a href=\"https://colab.research.google.com/github/ROMOISLASDANIELDEJESUS/Programacion_Avanzada/blob/main/inicioconelpitoon.ipynb\" target=\"_parent\"><img src=\"https://colab.research.google.com/assets/colab-badge.svg\" alt=\"Open In Colab\"/></a>"
      ]
    },
    {
      "cell_type": "code",
      "metadata": {
        "id": "Gun8NwjcBRax",
        "outputId": "51d7980a-c59a-40bd-a0fe-a1ca18084a0a",
        "colab": {
          "base_uri": "https://localhost:8080/"
        }
      },
      "source": [
        "#Comentario de una sola linea\n",
        "\n",
        "print(\"hola mundo\")\n"
      ],
      "execution_count": 1,
      "outputs": [
        {
          "output_type": "stream",
          "text": [
            "hola mundo\n"
          ],
          "name": "stdout"
        }
      ]
    },
    {
      "cell_type": "code",
      "metadata": {
        "id": "_tEMGqGGUNbj"
      },
      "source": [
        ""
      ],
      "execution_count": null,
      "outputs": []
    },
    {
      "cell_type": "markdown",
      "metadata": {
        "id": "-HTFRZEsTwaf"
      },
      "source": [
        "Esto es un comentario\n"
      ]
    }
  ]
}